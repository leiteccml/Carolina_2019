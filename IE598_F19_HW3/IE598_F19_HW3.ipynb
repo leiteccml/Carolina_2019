{
 "cells": [
  {
   "cell_type": "code",
   "execution_count": 9,
   "metadata": {},
   "outputs": [
    {
     "ename": "SyntaxError",
     "evalue": "invalid syntax (<ipython-input-9-f74b1e6b074c>, line 48)",
     "output_type": "error",
     "traceback": [
      "\u001b[0;36m  File \u001b[0;32m\"<ipython-input-9-f74b1e6b074c>\"\u001b[0;36m, line \u001b[0;32m48\u001b[0m\n\u001b[0;31m    _ = plt.hist(df.'days_diff_max')\u001b[0m\n\u001b[0m                                  ^\u001b[0m\n\u001b[0;31mSyntaxError\u001b[0m\u001b[0;31m:\u001b[0m invalid syntax\n"
     ]
    }
   ],
   "source": [
    "import pandas as pd\n",
    "import re \n",
    "import numpy as np\n",
    "import sys\n",
    "import matplotlib.pyplot as plt\n",
    "\n",
    "print (\"Assignment 3 - 09/15/2019\")\n",
    "print (\"\")\n",
    "\n",
    "# IMPORTING AND MANIPULATING THE DATA #\n",
    "\n",
    "# Import csv file\n",
    "df = pd.read_csv('/Users/carolinacmleite/Desktop/xid-46208489_1.csv',header=0)\n",
    "df1 = df.iloc[:,0:10]\n",
    "df2 = df.iloc[:,11:20]\n",
    "df3 = df.iloc[:,21:30]\n",
    "df4 = df.iloc[:,31:38]\n",
    "\n",
    "# Display the shape (#rows and #columns)\n",
    "print (\"1) Number of rows = \" + str(df.shape[0]))\n",
    "print (\"2) Number of columns = \" + str(df.shape[1]))\n",
    "print(\"\")\n",
    "\n",
    "# Display the features names \n",
    "print(\"3) Features names:\\n\")\n",
    "w, h = 2, 37;\n",
    "summarize_table = [[0 for x in range(w)] for y in range(h)] \n",
    "\n",
    "columns_names = df.columns;\n",
    "for i in range(len((columns_names))):\n",
    "    summarize_table[i][0]=columns_names[i]\n",
    "    summarize_table[i][1]=type(columns_names[i])\n",
    "    \n",
    "for i in range(len((columns_names))):\n",
    "    print (summarize_table[i][0])\n",
    "print(\"\")\n",
    "\n",
    "# Parameters for the Describe method\n",
    "print(\"4) Descriptive Statistics:\")\n",
    "\n",
    "perc = [.20, .40, .60, .80] \n",
    "types = ['object', 'float', 'int'] \n",
    "desc = df.describe(percentiles = perc, include = types) \n",
    "# Calling Describe Method\n",
    "desc\n",
    "\n",
    "import seaborn as sns\n",
    "_ = plt.hist(df.'days_diff_max')\n",
    "_ = plt.xlabel('Versicolor petal length (cm)')\n",
    "_ = plt.ylabel('Number of samples')\n",
    "\n"
   ]
  },
  {
   "cell_type": "code",
   "execution_count": null,
   "metadata": {},
   "outputs": [],
   "source": []
  }
 ],
 "metadata": {
  "kernelspec": {
   "display_name": "Python 3",
   "language": "python",
   "name": "python3"
  },
  "language_info": {
   "codemirror_mode": {
    "name": "ipython",
    "version": 3
   },
   "file_extension": ".py",
   "mimetype": "text/x-python",
   "name": "python",
   "nbconvert_exporter": "python",
   "pygments_lexer": "ipython3",
   "version": "3.7.3"
  }
 },
 "nbformat": 4,
 "nbformat_minor": 4
}
