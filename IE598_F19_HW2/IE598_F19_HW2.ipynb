{
 "cells": [
  {
   "cell_type": "code",
   "execution_count": 1,
   "metadata": {},
   "outputs": [
    {
     "name": "stdout",
     "output_type": "stream",
     "text": [
      "Assignment 2 - 09/08/2019\n",
      "\n",
      "# DATA SCREENING\n",
      "\n",
      "(900, 12)\n",
      "(900, 10)\n",
      "(900,)\n",
      "(900, 9)\n",
      "(630, 9) (630,)\n",
      "\n",
      "# 1ST MODEL: k-NN CLASSIFIER\n",
      "\n",
      "k Accuracy (Train) Accuracy (Test)\n",
      "1        0.846          0.544\n",
      "2        0.783          0.607\n",
      "3        0.794          0.589\n",
      "4        0.749          0.607\n",
      "5        0.748          0.589\n",
      "6        0.727          0.604\n",
      "7        0.732          0.578\n",
      "8        0.719          0.585\n",
      "9        0.729          0.6\n",
      "\n",
      "Values of k and maximum accuracy in the test sample are: \n",
      "[4.         0.60740741]\n",
      "\n"
     ]
    },
    {
     "data": {
      "text/plain": [
       "<Figure size 640x480 with 1 Axes>"
      ]
     },
     "metadata": {},
     "output_type": "display_data"
    },
    {
     "name": "stdout",
     "output_type": "stream",
     "text": [
      "\n",
      "# 2ND MODEL: DECISION TREE CLASSIFIER\n",
      "\n"
     ]
    },
    {
     "data": {
      "text/plain": [
       "<Figure size 640x480 with 1 Axes>"
      ]
     },
     "metadata": {},
     "output_type": "display_data"
    },
    {
     "data": {
      "text/plain": [
       "<Figure size 640x480 with 1 Axes>"
      ]
     },
     "metadata": {},
     "output_type": "display_data"
    },
    {
     "data": {
      "text/plain": [
       "<Figure size 640x480 with 1 Axes>"
      ]
     },
     "metadata": {},
     "output_type": "display_data"
    },
    {
     "data": {
      "text/plain": [
       "<Figure size 640x480 with 1 Axes>"
      ]
     },
     "metadata": {},
     "output_type": "display_data"
    },
    {
     "data": {
      "text/plain": [
       "<Figure size 640x480 with 1 Axes>"
      ]
     },
     "metadata": {},
     "output_type": "display_data"
    },
    {
     "data": {
      "text/plain": [
       "<Figure size 640x480 with 1 Axes>"
      ]
     },
     "metadata": {},
     "output_type": "display_data"
    },
    {
     "data": {
      "text/plain": [
       "<Figure size 640x480 with 1 Axes>"
      ]
     },
     "metadata": {},
     "output_type": "display_data"
    },
    {
     "data": {
      "text/plain": [
       "<Figure size 640x480 with 1 Axes>"
      ]
     },
     "metadata": {},
     "output_type": "display_data"
    },
    {
     "data": {
      "text/plain": [
       "<Figure size 640x480 with 1 Axes>"
      ]
     },
     "metadata": {},
     "output_type": "display_data"
    },
    {
     "name": "stdout",
     "output_type": "stream",
     "text": [
      "\n",
      "Max_Depth Accuracy (Test)\n",
      "    1          0.674\n",
      "    2          0.622\n",
      "    3          0.667\n",
      "    4          0.637\n",
      "    5          0.644\n",
      "    6          0.622\n",
      "    7          0.626\n",
      "    8          0.57\n",
      "    9          0.563\n",
      "\n"
     ]
    },
    {
     "data": {
      "text/plain": [
       "<Figure size 640x480 with 1 Axes>"
      ]
     },
     "metadata": {},
     "output_type": "display_data"
    },
    {
     "name": "stdout",
     "output_type": "stream",
     "text": [
      "\n",
      "My name is: Carolina Carvalho Manhaes Leite\n",
      "My NetID is: leite2\n",
      "I hereby certify that I have read the University policy on Academic Integrity and that I am not in violation.\n",
      "\n"
     ]
    }
   ],
   "source": [
    "import pandas as pd\n",
    "import numpy as np\n",
    "\n",
    "print (\"Assignment 2 - 09/08/2019\")\n",
    "print (\"\")\n",
    "\n",
    "# IMPORTING AND MANIPULATING THE DATA #\n",
    "\n",
    "print (\"# DATA SCREENING\")\n",
    "print (\"\")\n",
    "# Import csv file\n",
    "df = pd.read_csv('/Users/carolinacmleite/Desktop/Treasury_squeeze_test_DS1.csv',header=0)\n",
    "# Display its shape (#rows and #columns)\n",
    "print(df.shape)\n",
    "# Drop the 1st and 2nd columns (rowindex and contract)\n",
    "df = df.iloc[:, 2:]\n",
    "print(df.shape)\n",
    "# Extract the target and move it to its own array\n",
    "y = df.pop('squeeze').values\n",
    "# Convert boolean to int\n",
    "y = y.astype(int)\n",
    "print(y.shape)\n",
    "# Drop the target column from the original data\n",
    "X = df.iloc[:, :11]\n",
    "print(X.shape)\n",
    "\n",
    "#print(X)\n",
    "\n",
    "# SPLITTING TRAINING AND TESTING SETS #\n",
    "\n",
    "from sklearn.model_selection import train_test_split\n",
    "\n",
    "# Split the dataset into a training and a testing set\n",
    "X_train, X_test, y_train, y_test = train_test_split(X, y, test_size=0.3, random_state=1, stratify=y)\n",
    "print (X_train.shape, y_train.shape)\n",
    "print (\"\")\n",
    "# There's no need to standardize the features since they're all binary, with values 0 and 1\n",
    "\n",
    "# 1ST MODEL: k-NN CLASSIFIER #\n",
    "# Source of code general structures: DataCamp, Supervised Learning with scikit-learn, Chapter 1: Classification\n",
    "print (\"# 1ST MODEL: k-NN CLASSIFIER\")\n",
    "print (\"\")\n",
    "\n",
    "# Importing KNeighborsClassifier from sklearn.neighbors\n",
    "from sklearn.neighbors import KNeighborsClassifier\n",
    "\n",
    "# Setup arrays to store train and test accuracies\n",
    "neighbors = np.arange(1, 10)\n",
    "train_accuracy = np.empty(len(neighbors))\n",
    "test_accuracy = np.empty(len(neighbors))\n",
    "\n",
    "print (\"k\", \"Accuracy (Train)\", \"Accuracy (Test)\")\n",
    "# Looping over different values of k\n",
    "for i, k in enumerate(neighbors):\n",
    "    # Setup a k-NN Classifier with k neighbors: knn\n",
    "    knn = KNeighborsClassifier(n_neighbors=k)\n",
    "    # Fit the classifier to the training data\n",
    "    knn.fit(X_train,y_train)\n",
    "    # Computing accuracy on the training set\n",
    "    train_accuracy[i] = knn.score(X_train, y_train)\n",
    "    # Computing accuracy on the testing set\n",
    "    test_accuracy[i] = knn.score(X_test, y_test)\n",
    "    # Print values in a table\n",
    "    print(k, \"      \", round(train_accuracy[i],3), \"        \", round(test_accuracy[i],3))\n",
    "\n",
    "max_acc_knn = max(test_accuracy)\n",
    "# Array of indices to be added as column\n",
    "indexes = np.array([1, 2, 3, 4, 5, 6, 7, 8, 9]) \n",
    "# Adding column of indices to original array (test_accuracy)\n",
    "test_acc_index = np.column_stack((indexes, test_accuracy))\n",
    "print (\"\")\n",
    "print(\"Values of k and maximum accuracy in the test sample are: \")\n",
    "max_knn = print(test_acc_index[np.argsort(test_acc_index[:, 1])][-1]) # Source: https://docs.scipy.org/doc/numpy/reference/generated/numpy.argsort.html\n",
    "print (\"\")\n",
    "\n",
    "# Generating plot\n",
    "import matplotlib.pyplot as plt\n",
    "\n",
    "plt.title('k-NN: Varying Number of Neighbors')\n",
    "plt.plot(neighbors, test_accuracy, label = 'Testing Accuracy')\n",
    "plt.plot(neighbors, train_accuracy, label = 'Training Accuracy')\n",
    "plt.legend()\n",
    "plt.xlabel('Number of Neighbors')\n",
    "plt.ylabel('Accuracy')\n",
    "plt.show()\n",
    "\n",
    "# 2ND MODEL: DECISION TREE CLASSIFIER #\n",
    "# Source of code general structures: DataCamp, Machine Learning with Tree-Based Models in Python,\n",
    "# Chapter 1: Classification and Regression Trees\n",
    "print (\"\")\n",
    "print (\"# 2ND MODEL: DECISION TREE CLASSIFIER\")\n",
    "print (\"\")\n",
    "\n",
    "# Visualizing countplots 2x2\n",
    "# Sources: DataCamp, Supervised Learning with scikit-learn, Chapter 1: Classification (Visual EDA)\n",
    "#          https://seaborn.pydata.org/generated/seaborn.countplot.html\n",
    "import seaborn as sns\n",
    "\n",
    "# Import csv file again (we want to keep all variables and headers)\n",
    "df_plot = pd.read_csv('/Users/carolinacmleite/Desktop/Treasury_squeeze_test_DS1.csv',header=0)\n",
    "# Drop the 1st and 2nd columns (rowindex and contract)\n",
    "df_plot = df_plot.iloc[:, 2:]\n",
    "\n",
    "# Creating countplots\n",
    "plt.figure()\n",
    "sns.countplot(x='price_crossing', hue='squeeze', data=df_plot, palette='RdBu')\n",
    "plt.xticks([0,1], ['No', 'Yes'])\n",
    "plt.show()\n",
    "plt.figure()\n",
    "sns.countplot(x='price_distortion', hue='squeeze', data=df_plot, palette='RdBu')\n",
    "plt.xticks([0,1], ['No', 'Yes'])\n",
    "plt.show()\n",
    "plt.figure()\n",
    "sns.countplot(x='roll_start', hue='squeeze', data=df_plot, palette='RdBu')\n",
    "plt.xticks([0,1], ['No', 'Yes'])\n",
    "plt.show()\n",
    "plt.figure()\n",
    "sns.countplot(x='roll_heart', hue='squeeze', data=df_plot, palette='RdBu')\n",
    "plt.xticks([0,1], ['No', 'Yes'])\n",
    "plt.show()\n",
    "plt.figure()\n",
    "sns.countplot(x='near_minus_next', hue='squeeze', data=df_plot, palette='RdBu')\n",
    "plt.xticks([0,1], ['No', 'Yes'])\n",
    "plt.show()\n",
    "plt.figure()\n",
    "sns.countplot(x='ctd_last_first', hue='squeeze', data=df_plot, palette='RdBu')\n",
    "plt.xticks([0,1], ['No', 'Yes'])\n",
    "plt.show()\n",
    "plt.figure()\n",
    "sns.countplot(x='ctd1_percent', hue='squeeze', data=df_plot, palette='RdBu')\n",
    "plt.xticks([0,1], ['No', 'Yes'])\n",
    "plt.show()\n",
    "plt.figure()\n",
    "sns.countplot(x='delivery_cost', hue='squeeze', data=df_plot, palette='RdBu')\n",
    "plt.xticks([0,1], ['No', 'Yes'])\n",
    "plt.show()\n",
    "plt.figure()\n",
    "sns.countplot(x='delivery_ratio', hue='squeeze', data=df_plot, palette='RdBu')\n",
    "plt.xticks([0,1], ['No', 'Yes'])\n",
    "plt.show()\n",
    "print (\"\")\n",
    "\n",
    "# Importing DecisionTreeClassifier from sklearn.tree\n",
    "from sklearn.tree import DecisionTreeClassifier\n",
    "# Importing accuracy_score\n",
    "from sklearn.metrics import accuracy_score\n",
    "\n",
    "# Setup arrays to store train and test accuracies\n",
    "depth = np.arange(1, 10)\n",
    "test_accuracy_dt = np.empty(len(depth))\n",
    "\n",
    "print (\"Max_Depth\", \"Accuracy (Test)\")\n",
    "# Looping over different values of max_depth\n",
    "for i, k in enumerate(depth):\n",
    "    # Instantiating a DecisionTreeClassifier 'dt' with a maximum depth of k\n",
    "    dt = DecisionTreeClassifier(max_depth=k, random_state=1)\n",
    "    # Fitting the classifier to the training data\n",
    "    dt.fit(X_train,y_train)\n",
    "    # Predicting test set labels\n",
    "    y_pred = dt.predict(X_test)\n",
    "    # Computing accuracy on the testing set\n",
    "    test_accuracy_dt[i] = accuracy_score(y_test, y_pred)\n",
    "    # Print values in a table\n",
    "    print(\"   \", k, \"        \", round(test_accuracy_dt[i],3))\n",
    "\n",
    "max_acc_dt = max(test_accuracy_dt)\n",
    "    \n",
    "print (\"\")\n",
    "    \n",
    "# Generating plot\n",
    "import matplotlib.pyplot as plt\n",
    "\n",
    "plt.title('Decision Tree: Varying Value of Max_Depth')\n",
    "plt.plot(neighbors, test_accuracy_dt, label = 'Testing Accuracy')\n",
    "plt.legend()\n",
    "plt.xlabel('Max_depth')\n",
    "plt.ylabel('Accuracy')\n",
    "plt.show()\n",
    "\n",
    "# Instantiating a DecisionTreeClassifier 'dt' with a maximum depth of 3\n",
    "# It's the depth >= 1 that leads to the maximum accuracy\n",
    "dt = DecisionTreeClassifier(max_depth=3, random_state=1)\n",
    "# Fitting the classifier to the training data\n",
    "dt.fit(X_train,y_train)\n",
    "\n",
    "# Creating a file that can be used to construct the tree flow chart\n",
    "# Source: https://scikit-learn.org/stable/modules/generated/sklearn.tree.export_graphviz.html\n",
    "# After its creation, the text in dt.dot can be uploaded to http://webgraphviz.com, creating the chart\n",
    "from sklearn import tree\n",
    "dotfile = open(\"dt.dot\", 'w')\n",
    "tree.export_graphviz(dt, out_file=dotfile)\n",
    "dotfile.close()\n",
    "\n",
    "print(\"\")\n",
    "print(\"My name is: Carolina Carvalho Manhaes Leite\")\n",
    "print(\"My NetID is: leite2\")\n",
    "print(\"I hereby certify that I have read the University policy on Academic Integrity and that I am not in violation.\")\n",
    "print(\"\")\n",
    "\n"
   ]
  },
  {
   "cell_type": "code",
   "execution_count": null,
   "metadata": {},
   "outputs": [],
   "source": []
  }
 ],
 "metadata": {
  "kernelspec": {
   "display_name": "Python 3",
   "language": "python",
   "name": "python3"
  },
  "language_info": {
   "codemirror_mode": {
    "name": "ipython",
    "version": 3
   },
   "file_extension": ".py",
   "mimetype": "text/x-python",
   "name": "python",
   "nbconvert_exporter": "python",
   "pygments_lexer": "ipython3",
   "version": "3.7.3"
  }
 },
 "nbformat": 4,
 "nbformat_minor": 4
}
